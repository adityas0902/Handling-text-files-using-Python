{
 "cells": [
  {
   "cell_type": "markdown",
   "metadata": {},
   "source": [
    "# Importing library "
   ]
  },
  {
   "cell_type": "code",
   "execution_count": 48,
   "metadata": {},
   "outputs": [],
   "source": [
    "import re\n",
    "import pandas as pd\n",
    "from collections import defaultdict"
   ]
  },
  {
   "cell_type": "markdown",
   "metadata": {},
   "source": [
    "# Read the text file"
   ]
  },
  {
   "cell_type": "code",
   "execution_count": 49,
   "metadata": {},
   "outputs": [],
   "source": [
    "with open('conv.txt', 'r') as file:\n",
    "    content = file.read()"
   ]
  },
  {
   "cell_type": "markdown",
   "metadata": {},
   "source": [
    "## Split the content into lines"
   ]
  },
  {
   "cell_type": "code",
   "execution_count": 50,
   "metadata": {
    "scrolled": false
   },
   "outputs": [
    {
     "name": "stdout",
     "output_type": "stream",
     "text": [
      "['WILL: Iâ€™ve never seen wildlings do a thing like this. Iâ€™ve never seen a thing like this, not ever in my life.', '', 'WAYMAR ROYCE: How close did you get?', '', 'WILL: Close as any man would.', '', 'GARED: We should head back to the wall.', '', 'ROYCE: Do the dead frighten you?', '', 'GARED: Our orders were to track the wildlings. We tracked them. They wonâ€™t trouble us no more.', '', 'ROYCE: You donâ€™t think heâ€™ll ask us how they died? Get back on your horse.', '', 'WILL: Whatever did it to them could do it to us. They even killed the children.', '', 'ROYCE: Itâ€™s a good thing weâ€™re not children. You want to run away south, run away. Of course, they will behead you as a deserter â€¦ If I donâ€™t catch you first. Get back on your horse. I wonâ€™t say it again.', '', 'ROYCE: Your dead men seem to have moved camp.', '', 'WILL: They were here.', '', 'GARED: See where they went.', '', 'ROYCE: What is it?', '', 'JON: Go on. Fatherâ€™s watching.', '', 'JON: And your mother.', '', 'SEPTA MORDANE: Fine work, as always. Well done.', '', 'SANSA: Thank you.', '', 'SEPTA MORDANE: I love the detail that youâ€™ve managed to get in this corners.', '', 'NED: And which one of you was a marksman at ten? Keep practicing, Bran. Go on.', '', 'JON: Donâ€™t think too much, Bran.', '', 'ROBB: Relax your bow arm.', '', 'CASSEL: Lord Stark. My lady. A guardsman just rode in from the hills. Theyâ€™ve captured a deserter from the Nightâ€™s Watch.', '', 'NED: Get the lads to saddle their horses.', '', 'CATELYN: Do you have to?', '', 'NED: He swore an oath, Cat.', '', 'CASSEL: The law is law, my lady.', '', 'NED: Tell Bran heâ€™s coming, too.', '', 'CATELYN: Ned. Ten is too young to see such things.', '', 'NED: He wonâ€™t be a boy forever. And winter is coming.', '', 'ROBB: Lad, go run back and get the rest.', '', 'NED: King of the Andals and the First Men â€¦', '', 'JON: Father will know if you do.', '', 'NED: Lord of the Seven Kingdoms and protector of the realm, I, Eddard of the House Stark, Lord of Winterfell and Warden of the North, sentence you to die.', '', 'JON: You did well.', '', 'NED: You understand why I did it?', '', 'BRAN: Jon said he was a deserter.', '', 'NED: But do you understand why I had to kill him?', '', 'BRAN: Our way is the old way?', '', 'NED: The man who passes the sentence should swing the sword.', '', 'BRAN: Is it true he saw the White Walkers?', '', 'NED: The White Walkers have been gone for thousands of years.', '', 'BRAN: So he was lying?', '', 'NED: A madman sees what he sees.', '', 'JON: What is it?', '', 'THEON: Mountain lion?', '', 'NED: There are no mountain lions in these woods.', '', 'THEON: Itâ€™s a freak.', '', 'NED: Itâ€™s a direwolf.', '', 'NED: Tough old beast.', '', 'ROBB: There are no direwolves south of the Wall.', '', 'JON: Now there are five.', '', 'JON: You want to hold it?', '', 'BRAN: Where will they go? Their motherâ€™s dead.', '', 'CASSEL: They donâ€™t belong down here.', '', 'NED: Better a quick death. They wonâ€™t last without their mother.', '', 'THEON: Right. Give it here.', '', 'BRAN: NO!', '', 'ROBB: Put away your blade.', '', 'THEON: I take orders from your father, not you.', '', 'BRAN: Please, father!', '', 'NED: Iâ€™m sorry, Bran.', '', 'JON: Lord Stark? There are five pups. One for each of the Stark children. The direwolf is the sigil of your House. They were meant to have them.', '', 'NED: You will train them yourselves. You will feed them yourselves. And if they die, you will bury them yourselves.', '', 'BRAN: What about you?', '', 'JON: Iâ€™m not a Stark. Get on.', '', 'ROBB: What is it?', '', 'CERSEI: What if Jon Arryn told someone?', '', 'JAIME: But who would he tell?', '', 'CERSEI: My husband.', '', 'JAIME: If he told the king, both our heads would be skewered on the city gates by now. Whatever Jon Arryn knew or didnâ€™t know, it died with him. And Robert will choose a new Hand of the king, someone to do his job while heâ€™s off fucking boars and hunting whores. Or is it the other way around? And life will go on.', '', 'CERSEI: You should be the Hand of the king.', '', 'JAIME: Thatâ€™s an honor I can do without. Their days are too long, their lives are too short.', '', 'CATELYN: All these years and I still feel like an outsider when I come here.', '', 'NED: You have five northern children. Youâ€™re not an outsider.', '', 'CATELYN: I wonder if the old gods agree.', '', 'NED: Itâ€™s your gods with all the rules.', '', 'CATELYN: I am so sorry, my love.', '', 'NED: Tell me.', '', 'ROBB: I hear the prince is a right royal prick.', '', 'THEON: Think of all those southern girls he gets to stab with his right royal prick.', '', 'ROBB: Go on, Tommy, shave him good. Heâ€™s never met a girl he likes better than his own hair.', '', 'CATELYN: Gods, but they grow fast.', '', 'BRAN: I saw the king! Heâ€™s got hundreds of people!', '', 'CATELYN: How many times have I told you No climbing!', '', 'BRAN: But heâ€™s coming right now! Down our road!', '', 'CATELYN: I want you to promise me. No more climbing.', '', 'NED: Your Grace.', '', 'ROBERT: Youâ€™ve got fat.', '', 'ROBERT: Cat!', '', 'CATELYN: Your Grace.', '', 'ROBERT: Nine years. Why havenâ€™t I seen you? Where the hell have you been?', '', 'NED: Guarding the North for you, Your Grace. Winterfell is yours.', '', 'ARYA: Whereâ€™s the Imp?', '', 'SANSA: Will you shut up?', '', 'ROBERT: Who have we here? You must be Robb.', '', 'ARYA: Arya.', '', 'ROBERT: Ooh. Show us your muscles. Youâ€™ll be a soldier.', '', 'ARYA: Thatâ€™s Jaime Lannister. The queenâ€™s twin brother.', '', 'SANSA: Would you please shut up.', '', 'NED: My queen.', '', 'CATELYN: My queen.', '', 'ROBERT: Take me to your crypt. I want to pay my respects.', '', 'CERSEI: Weâ€™ve been riding for a month, my love. Surely the dead can wait.', '', 'ROBERT: Ned.', '', 'ARYA: Whereâ€™s the Imp?', '', 'CERSEI: Where is our brother? Go find the little beast.', '', 'NED: Tell me about Jon Arryn.', '', 'ROBERT: One minute he was fine, and then â€¦ Burned right through him, whatever it was. I loved that man.', '', 'NED: We both did.', '', 'ROBERT: He never had to teach you much, but me â€¦ You remember me at 16? All I wanted to do was crack skulls and fuck girls. He showed me what was what.', '', 'NED: Aye.', '', '']\n"
     ]
    }
   ],
   "source": [
    "match = content.split('\\n')\n",
    "print(lines)"
   ]
  },
  {
   "cell_type": "markdown",
   "metadata": {},
   "source": [
    "#  Extract unique dialogue speakers and their dialogues"
   ]
  },
  {
   "cell_type": "code",
   "execution_count": 51,
   "metadata": {},
   "outputs": [],
   "source": [
    "\n",
    "dialogues = defaultdict(str)\n",
    "for line in lines:\n",
    "    match = re.match(r'^(.+?):\\s*(.+)$', line)\n",
    "    if match:\n",
    "        speaker, dialogue = match.groups()\n",
    "        dialogues[speaker] += dialogue + ' '"
   ]
  },
  {
   "cell_type": "code",
   "execution_count": 57,
   "metadata": {
    "scrolled": true
   },
   "outputs": [
    {
     "data": {
      "text/plain": [
       "{'ARYA',\n",
       " 'BRAN',\n",
       " 'CASSEL',\n",
       " 'CATELYN',\n",
       " 'CERSEI',\n",
       " 'GARED',\n",
       " 'JAIME',\n",
       " 'JON',\n",
       " 'NED',\n",
       " 'ROBB',\n",
       " 'ROBERT',\n",
       " 'ROYCE',\n",
       " 'SANSA',\n",
       " 'SEPTA MORDANE',\n",
       " 'THEON',\n",
       " 'WAYMAR ROYCE',\n",
       " 'WILL'}"
      ]
     },
     "execution_count": 57,
     "metadata": {},
     "output_type": "execute_result"
    }
   ],
   "source": [
    "Unique_Name = set(dialogues.keys())\n",
    "Unique_Name"
   ]
  },
  {
   "cell_type": "markdown",
   "metadata": {},
   "source": [
    "#  Process each speaker's dialogues"
   ]
  },
  {
   "cell_type": "code",
   "execution_count": 53,
   "metadata": {},
   "outputs": [],
   "source": [
    "for speaker, dialogue in dialogues.items():\n",
    "    # Extract unique words\n",
    "    words = set(re.findall(r'\\b\\w+\\b', dialogue.lower()))\n",
    "    \n",
    "    # Create a new text file and store unique words\n",
    "    with open(f'{speaker}.txt', 'w') as file:\n",
    "        for word in sorted(words):\n",
    "            file.write(f'{word}\\n')"
   ]
  },
  {
   "cell_type": "code",
   "execution_count": null,
   "metadata": {},
   "outputs": [],
   "source": []
  }
 ],
 "metadata": {
  "kernelspec": {
   "display_name": "Python 3",
   "language": "python",
   "name": "python3"
  },
  "language_info": {
   "codemirror_mode": {
    "name": "ipython",
    "version": 3
   },
   "file_extension": ".py",
   "mimetype": "text/x-python",
   "name": "python",
   "nbconvert_exporter": "python",
   "pygments_lexer": "ipython3",
   "version": "3.8.3"
  }
 },
 "nbformat": 4,
 "nbformat_minor": 4
}
